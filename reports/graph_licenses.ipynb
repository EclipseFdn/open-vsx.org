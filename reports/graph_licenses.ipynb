{
 "cells": [
  {
   "cell_type": "markdown",
   "metadata": {},
   "source": [
    "# Display a graph of license distribution\n",
    "\n",
    "To use, you need a personal access token from https://open-vsx.org/user-settings/tokens."
   ]
  },
  {
   "cell_type": "code",
   "execution_count": null,
   "metadata": {},
   "outputs": [],
   "source": [
    "import os\n",
    "os.environ[\"ACCESS_TOKEN\"] = \"****\"\n",
    "os.environ[\"API_ENDPOINT\"] = \"https://open-vsx.org/\"\n",
    "import get_all_extensions\n",
    "import pandas as pd\n",
    "import matplotlib.pyplot as plt\n",
    "import json"
   ]
  },
  {
   "cell_type": "code",
   "execution_count": null,
   "metadata": {},
   "outputs": [],
   "source": [
    "extensions = get_all_extensions.get_all_by_license()\n",
    "print(extensions.keys())"
   ]
  },
  {
   "cell_type": "code",
   "execution_count": null,
   "metadata": {},
   "outputs": [],
   "source": [
    "license_count = {\n",
    "    'BSD': 0,\n",
    "    'AGPL': 0,\n",
    "    'GPL': 0,\n",
    "    'LGPL': 0,\n",
    "    'EPL': 0,\n",
    "    'MIT': 0,\n",
    "    'Apache': 0,\n",
    "    'CC': 0,\n",
    "    'MPL': 0,\n",
    "    'None': 0,\n",
    "    'Other': 0\n",
    "}\n",
    "for extension_license in extensions.keys():\n",
    "    license_match = False\n",
    "    for license_type in license_count.keys():\n",
    "        if license_type in extension_license:\n",
    "            license_match = True\n",
    "            license_count[license_type] = license_count[license_type] + len(extensions[extension_license])\n",
    "    if license_match is False:\n",
    "        license_count['Other'] = license_count['Other'] + len(extensions[extension_license])\n"
   ]
  },
  {
   "cell_type": "code",
   "execution_count": null,
   "metadata": {},
   "outputs": [],
   "source": [
    "sorted_license_count = dict(sorted(license_count.items(), key=lambda item: -1 * item[1]))\n",
    "print(json.dumps(sorted_license_count, indent=4))"
   ]
  },
  {
   "cell_type": "code",
   "execution_count": null,
   "metadata": {},
   "outputs": [],
   "source": [
    "labels = sorted_license_count.keys()\n",
    "values = sorted_license_count.values() \n",
    "print(labels)\n",
    "print(values)\n",
    "df = pd.DataFrame()\n",
    "df['License'] = labels\n",
    "df['Count'] = values\n",
    "df"
   ]
  },
  {
   "cell_type": "code",
   "execution_count": null,
   "metadata": {},
   "outputs": [],
   "source": [
    "plt.rcParams['figure.figsize'] = (15,9)\n",
    "plt.pie(values, labels=labels, shadow=True, autopct='%1.1f%%')\n",
    "plt.show() "
   ]
  },
  {
   "cell_type": "code",
   "execution_count": null,
   "metadata": {},
   "outputs": [],
   "source": [
    "extensions[0]"
   ]
  }
 ],
 "metadata": {
  "kernelspec": {
   "display_name": "Python 3",
   "language": "python",
   "name": "python3"
  },
  "language_info": {
   "codemirror_mode": {
    "name": "ipython",
    "version": 3
   },
   "file_extension": ".py",
   "mimetype": "text/x-python",
   "name": "python",
   "nbconvert_exporter": "python",
   "pygments_lexer": "ipython3",
   "version": "3.13.0"
  },
  "orig_nbformat": 4
 },
 "nbformat": 4,
 "nbformat_minor": 2
}
