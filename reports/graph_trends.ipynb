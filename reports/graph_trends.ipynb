{
 "cells": [
  {
   "attachments": {},
   "cell_type": "markdown",
   "metadata": {},
   "source": [
    "# Calculate Trends at open-vsx.org\n",
    "This Jupyter notebook calculates graphs over time at open-vsx.org; publishers, extensions, downloads. To use, you need admin authority and a personal access token from https://open-vsx.org/user-settings/tokens."
   ]
  },
  {
   "cell_type": "code",
   "execution_count": null,
   "metadata": {
    "metadata": {}
   },
   "outputs": [],
   "source": [
    "import matplotlib.pyplot as plt\n",
    "import os\n",
    "\n",
    "os.environ[\"ACCESS_TOKEN\"] = \"****\"\n",
    "os.environ[\"API_ENDPOINT\"] = \"https://open-vsx.org/\"\n",
    "\n",
    "import get_open_vsx_data\n",
    "\n",
    "STARTING_YEAR = 2021\n",
    "STARTING_MONTH = 11\n",
    "\n",
    "df = get_open_vsx_data.get_publishing_data(STARTING_YEAR, STARTING_MONTH)"
   ]
  },
  {
   "cell_type": "code",
   "execution_count": null,
   "metadata": {
    "metadata": {}
   },
   "outputs": [],
   "source": [
    "df"
   ]
  },
  {
   "cell_type": "code",
   "execution_count": null,
   "metadata": {},
   "outputs": [],
   "source": [
    "dates = []\n",
    "index = 0\n",
    "for year in df['year']:\n",
    "    dates.append(\"%s/%s\" % (df['month'][index], str(year)[2:]))\n",
    "    index += 1\n",
    "df['date'] = dates"
   ]
  },
  {
   "cell_type": "code",
   "execution_count": null,
   "metadata": {},
   "outputs": [],
   "source": [
    "downloads_graph = []\n",
    "for total in df['downloadsTotal']:\n",
    "    downloads_graph.append(total / 1000000)\n",
    "df['downloads_graph'] = downloads_graph"
   ]
  },
  {
   "cell_type": "code",
   "execution_count": null,
   "metadata": {
    "metadata": {}
   },
   "outputs": [],
   "source": [
    "y_max = df['downloads_graph'][len(df['downloads_graph'])-1]\n",
    "y_axis_max = int(y_max) + 5\n",
    "plt.ylim([0, y_axis_max])\n",
    "# plt.style.use('seaborn-dark')\n",
    "plt.rcParams[\"figure.figsize\"] = (15,10)\n",
    "plt.grid(True)\n",
    "plt.plot(df['date'], df['downloads_graph'], marker='o')\n",
    "plt.title('Cumulative Downloads by Month', fontsize=18)\n",
    "plt.xlabel('Month', fontsize=14)\n",
    "plt.ylabel('Downloads (Millions)', fontsize=14)\n",
    "plt.xticks(fontsize=10)\n",
    "plt.yticks(fontsize=12)\n",
    "plt.show()\n",
    "df"
   ]
  },
  {
   "cell_type": "code",
   "execution_count": null,
   "metadata": {
    "metadata": {}
   },
   "outputs": [],
   "source": [
    "y_max = df['extensions'][len(df['extensions'])-1]\n",
    "y_axis_max = (int(y_max / 1000) + 1) * 1000\n",
    "plt.ylim([0, y_axis_max])\n",
    "# plt.style.use('seaborn-dark')\n",
    "plt.rcParams[\"figure.figsize\"] = (15,10)\n",
    "plt.grid(True)\n",
    "plt.plot(df['date'], df['extensions'], marker='o', label='Extensions')\n",
    "plt.plot(df['date'], df['publishers'], marker='o', label='Publishers')\n",
    "plt.title('Total Published Extensions and Publishers by Month', fontsize=18)\n",
    "plt.xlabel('Month', fontsize=14)\n",
    "plt.xticks(fontsize=10)\n",
    "plt.ylabel('Total Extensions/Publishers', fontsize=14)\n",
    "plt.yticks(fontsize=12)\n",
    "plt.legend(fontsize=14)\n",
    "plt.show()"
   ]
  },
  {
   "cell_type": "code",
   "execution_count": null,
   "metadata": {},
   "outputs": [],
   "source": [
    "df"
   ]
  }
 ],
 "metadata": {
  "kernelspec": {
   "display_name": "Python 3",
   "language": "python",
   "name": "python3"
  },
  "language_info": {
   "codemirror_mode": {
    "name": "ipython",
    "version": 3
   },
   "file_extension": ".py",
   "mimetype": "text/x-python",
   "name": "python",
   "nbconvert_exporter": "python",
   "pygments_lexer": "ipython3",
   "version": "3.11.2"
  },
  "orig_nbformat": 4
 },
 "nbformat": 4,
 "nbformat_minor": 2
}
