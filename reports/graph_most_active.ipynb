{
 "cells": [
  {
   "cell_type": "markdown",
   "metadata": {},
   "source": [
    "# Graph most active publishers and downloaded extensions\n",
    "\n",
    "To use, you need a personal access token from https://open-vsx.org/user-settings/tokens."
   ]
  },
  {
   "cell_type": "code",
   "execution_count": null,
   "metadata": {
    "metadata": {}
   },
   "outputs": [],
   "source": [
    "import matplotlib.pyplot as plt\n",
    "import os"
   ]
  },
  {
   "cell_type": "code",
   "execution_count": null,
   "metadata": {
    "metadata": {}
   },
   "outputs": [],
   "source": [
    "os.environ[\"ACCESS_TOKEN\"] = \"****\"\n",
    "os.environ[\"API_ENDPOINT\"] = \"https://open-vsx.org/\"\n",
    "\n",
    "import get_open_vsx_data"
   ]
  },
  {
   "cell_type": "code",
   "execution_count": null,
   "metadata": {
    "metadata": {}
   },
   "outputs": [],
   "source": [
    "most_active_dfs = get_open_vsx_data.get_most_active_data(2022, 11)"
   ]
  },
  {
   "cell_type": "code",
   "execution_count": null,
   "metadata": {
    "metadata": {}
   },
   "outputs": [],
   "source": [
    "for key in most_active_dfs.keys():\n",
    "    df = most_active_dfs[key]\n",
    "    if key == 'topMostActivePublishingUsers':\n",
    "        df = df.drop('open-vsx', axis=1)\n",
    "    dates = df['date']\n",
    "    # plt.style.use('seaborn-dark')\n",
    "    plt.rcParams[\"figure.figsize\"] = (15,10)\n",
    "    plt.grid(True)\n",
    "    for column in df.keys():\n",
    "        if column != 'date':\n",
    "            plt.plot(dates, df[column], label=column, marker='o')\n",
    "    if key == 'topMostActivePublishingUsers':\n",
    "        plt.title('Users Publishing the Most - Excluding open-vsx', fontsize=18)\n",
    "        plt.ylabel(\"Number of Extension Versions Published\")\n",
    "    elif key == 'topNamespaceExtensions':\n",
    "        plt.title('Namespaces with the Most Extensions', fontsize=18)\n",
    "        plt.ylabel(\"Number of Extensions\")\n",
    "    elif key == 'topNamespaceExtensionVersions':\n",
    "        plt.title('Namespaces with the Most Extension Versions', fontsize=18)\n",
    "        plt.ylabel(\"Number of Extension Versions\")\n",
    "    elif key == 'topMostDownloadedExtensions':\n",
    "        plt.title('Most Downloaded Extensions', fontsize=18)\n",
    "        plt.ylabel(\"Number of Downloads (Millions)\")\n",
    "    plt.xticks(fontsize=12)\n",
    "    plt.yticks(fontsize=12)\n",
    "    plt.legend(fontsize=10)\n",
    "    plt.show()\n",
    "    display(df)"
   ]
  }
 ],
 "metadata": {
  "kernelspec": {
   "display_name": "Python 3",
   "language": "python",
   "name": "python3"
  },
  "language_info": {
   "codemirror_mode": {
    "name": "ipython",
    "version": 3
   },
   "file_extension": ".py",
   "mimetype": "text/x-python",
   "name": "python",
   "nbconvert_exporter": "python",
   "pygments_lexer": "ipython3",
   "version": "3.13.0"
  },
  "orig_nbformat": 4
 },
 "nbformat": 4,
 "nbformat_minor": 2
}
