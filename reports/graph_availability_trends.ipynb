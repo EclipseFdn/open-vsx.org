{
 "cells": [
  {
   "attachments": {},
   "cell_type": "markdown",
   "metadata": {},
   "source": [
    "# Display Availability Trends for open-vsx.org monitors\n",
    "\n",
    "Uses the Better Uptime API:\n",
    "https://docs.betteruptime.com/api/monitors-api#getting-monitors-availability-summary.\n",
    "\n",
    "To use, you need an access token from the IT team."
   ]
  },
  {
   "cell_type": "code",
   "execution_count": null,
   "metadata": {
    "metadata": {}
   },
   "outputs": [],
   "source": [
    "import matplotlib.pyplot as plt\n",
    "import os\n",
    "import numpy as np\n",
    "from datetime import datetime\n",
    "\n",
    "os.environ[\"TOKEN\"] = \"****\"\n",
    "\n",
    "import get_availability_data"
   ]
  },
  {
   "cell_type": "code",
   "execution_count": null,
   "metadata": {
    "metadata": {}
   },
   "outputs": [],
   "source": [
    "availability_data = get_availability_data.get_continuous_data()"
   ]
  },
  {
   "cell_type": "code",
   "execution_count": null,
   "metadata": {
    "metadata": {}
   },
   "outputs": [],
   "source": [
    "plt.ylim(94.5, 100.1)\n",
    "plt.rcParams['figure.figsize'] = (15,9)\n",
    "for monitor in availability_data:\n",
    "    plt.plot(monitor['dates'], monitor['sla_data'], label=monitor['name'])\n",
    "start_date = availability_data[0]['dates'][0]\n",
    "end_date = availability_data[0]['dates'][len(availability_data[0]['dates'])-1]\n",
    "plt.plot([start_date, end_date], [99, 99], label='Tier 2 SLA (99%)', linewidth=3, linestyle='dashed')\n",
    "plt.plot([start_date, end_date], [99.98, 99.98], label='Tier 1 SLA (99.98%)', linewidth=3, linestyle='dotted')\n",
    "plt.plot([start_date, end_date], [95, 95], label='Tier 3 SLA (95%)', linewidth=3, linestyle='dashdot')\n",
    "plt.title('Open-vsx.org Availability - All Time', fontsize=14)\n",
    "plt.ylabel('Previous 30 Day Rolling Average', fontsize=14)\n",
    "plt.xticks(fontsize=14)\n",
    "plt.yticks(fontsize=14)\n",
    "plt.legend(facecolor='silver', framealpha=1, fontsize=14)\n",
    "plt.grid(True)\n",
    "plt.show()"
   ]
  },
  {
   "cell_type": "code",
   "execution_count": null,
   "metadata": {
    "metadata": {}
   },
   "outputs": [],
   "source": [
    "plt.ylim(98.0, 100.1)\n",
    "plt.rcParams['figure.figsize'] = (15,9)\n",
    "start_date_index = len(availability_data[0]['dates'])-92\n",
    "end_date_index = len(availability_data[0]['dates'])\n",
    "for monitor in availability_data:\n",
    "    dates = monitor['dates'][start_date_index: end_date_index]\n",
    "    data = monitor['sla_data'][start_date_index: end_date_index]\n",
    "    plt.plot(dates, data, label=monitor['name'])\n",
    "start_date = availability_data[0]['dates'][start_date_index]\n",
    "end_date = availability_data[0]['dates'][end_date_index-1]\n",
    "plt.plot([start_date, end_date], [99, 99], label='Tier 2 SLA (99%)', linewidth=3, linestyle='dashed')\n",
    "plt.plot([start_date, end_date], [99.98, 99.98], label='Tier 1 SLA (99.98%)', linewidth=3, linestyle='dotted')\n",
    "plt.plot([start_date, end_date], [99.9, 99.9], label='99.9%', linewidth=3, linestyle='dashdot')\n",
    "plt.title('Open-vsx.org Availability - Previous 90 Days', fontsize=14)\n",
    "plt.ylabel('Previous 30 Day Average Availability %', fontsize=14)\n",
    "plt.xticks(fontsize=14)\n",
    "plt.yticks(fontsize=14)\n",
    "plt.legend(facecolor='silver', framealpha=1, fontsize=14)\n",
    "plt.grid(True)\n",
    "plt.show()"
   ]
  },
  {
   "cell_type": "code",
   "execution_count": null,
   "metadata": {
    "metadata": {}
   },
   "outputs": [],
   "source": [
    "monthly_availability_data = get_availability_data.get_monthly_data()"
   ]
  },
  {
   "cell_type": "code",
   "execution_count": null,
   "metadata": {
    "metadata": {}
   },
   "outputs": [],
   "source": [
    "date_labels = []\n",
    "for date in monthly_availability_data[0]['dates']:\n",
    "    date_labels.append(date.astype(datetime).strftime(\"%m-%y\"))\n",
    "print(date_labels)"
   ]
  },
  {
   "cell_type": "code",
   "execution_count": null,
   "metadata": {
    "metadata": {}
   },
   "outputs": [],
   "source": [
    "fig, ax = plt.subplots()\n",
    "plt.ylim(97.0, 100.1)\n",
    "plt.title('Open-vsx.org Monthly Site Availability', fontsize=14)\n",
    "\n",
    "n_groups = len(monthly_availability_data[0]['dates'])\n",
    "index = np.arange(n_groups)\n",
    "bar_width = 0.15\n",
    "opacity = 0.8\n",
    "colors = ['b', 'orange', 'g', 'r']\n",
    "\n",
    "ax.grid(axis='y')\n",
    "\n",
    "plot0 = plt.bar(index + 0 * bar_width, \n",
    "        monthly_availability_data[0]['sla_data'],\n",
    "        width=bar_width, \n",
    "        alpha=opacity,\n",
    "        color=colors[0],\n",
    "        label=monthly_availability_data[0]['name'])\n",
    "\n",
    "plot1 = plt.bar(index + 1 * bar_width, \n",
    "        monthly_availability_data[1]['sla_data'],\n",
    "        width=bar_width, \n",
    "        alpha=opacity,\n",
    "        color=colors[1],\n",
    "        label=monthly_availability_data[1]['name'])\n",
    "\n",
    "plot2 = plt.bar(index + 2 * bar_width, \n",
    "        monthly_availability_data[2]['sla_data'],\n",
    "        width=bar_width, \n",
    "        alpha=opacity,\n",
    "        color=colors[2],\n",
    "        label=monthly_availability_data[2]['name'])\n",
    "\n",
    "plot3 = plt.bar(index + 3 * bar_width, \n",
    "        monthly_availability_data[3]['sla_data'],\n",
    "        width=bar_width, \n",
    "        alpha=opacity,\n",
    "        color=colors[3],\n",
    "        label=monthly_availability_data[3]['name'])\n",
    "plt.xlabel(\"Month\")\n",
    "plt.ylabel(\"Endpoint Monthly Availability %\")\n",
    "plt.xticks(index + 1.5 * bar_width, date_labels)\n",
    "plt.yticks([97.0, 98.0, 99.0, 99.5, 99.9, 100.0])\n",
    "plt.legend()\n",
    "plt.legend(loc='lower right', facecolor='silver')\n",
    "# plt.tight_layout()\n",
    "plt.show()"
   ]
  },
  {
   "cell_type": "code",
   "execution_count": null,
   "metadata": {
    "metadata": {}
   },
   "outputs": [],
   "source": [
    "fig, ax = plt.subplots()\n",
    "plt.title('Open-vsx.org Monthly Site Downtime', fontsize=14)\n",
    "\n",
    "n_groups = len(monthly_availability_data[0]['dates'])\n",
    "index = np.arange(n_groups)\n",
    "bar_width = 0.15\n",
    "opacity = 0.8\n",
    "colors = ['b', 'orange', 'g', 'r']\n",
    "\n",
    "ax.grid(axis='y')\n",
    "\n",
    "plot0 = plt.bar(index + 0 * bar_width, \n",
    "        monthly_availability_data[0]['downtime_data'],\n",
    "        width=bar_width, \n",
    "        alpha=opacity,\n",
    "        color=colors[0],\n",
    "        label=monthly_availability_data[0]['name'])\n",
    "\n",
    "plot1 = plt.bar(index + 1 * bar_width, \n",
    "        monthly_availability_data[1]['downtime_data'],\n",
    "        width=bar_width, \n",
    "        alpha=opacity,\n",
    "        color=colors[1],\n",
    "        label=monthly_availability_data[1]['name'])\n",
    "\n",
    "plot2 = plt.bar(index + 2 * bar_width, \n",
    "        monthly_availability_data[2]['downtime_data'],\n",
    "        width=bar_width, \n",
    "        alpha=opacity,\n",
    "        color=colors[2],\n",
    "        label=monthly_availability_data[2]['name'])\n",
    "\n",
    "plot3 = plt.bar(index + 3 * bar_width, \n",
    "        monthly_availability_data[3]['downtime_data'],\n",
    "        width=bar_width, \n",
    "        alpha=opacity,\n",
    "        color=colors[3],\n",
    "        label=monthly_availability_data[3]['name'])\n",
    "plt.xlabel(\"Month\")\n",
    "plt.ylabel(\"Endpoint Monthly Downtime Minutes (Logarithmic)\")\n",
    "plt.xticks(index + 1.5 * bar_width, date_labels)\n",
    "plt.yscale(\"log\")\n",
    "plt.yticks([1.0, 4.3, 10.0, 43.2, 100.0, 432.0, 1000.0], labels=[1.0, 4.3, 10.0, 43.2, 100.0, 432.0, 1000.0])\n",
    "plt.legend()\n",
    "plt.legend(loc='upper right', facecolor='silver')\n",
    "plt.text(-0.5, 3000, '99.99% Availability= < 4.32min of downtime', fontsize = 14)\n",
    "# plt.tight_layout()\n",
    "plt.show()"
   ]
  }
 ],
 "metadata": {
  "kernelspec": {
   "display_name": "Python 3",
   "language": "python",
   "name": "python3"
  },
  "language_info": {
   "codemirror_mode": {
    "name": "ipython",
    "version": 3
   },
   "file_extension": ".py",
   "mimetype": "text/x-python",
   "name": "python",
   "nbconvert_exporter": "python",
   "pygments_lexer": "ipython3",
   "version": "3.13.0"
  },
  "orig_nbformat": 4
 },
 "nbformat": 4,
 "nbformat_minor": 2
}
